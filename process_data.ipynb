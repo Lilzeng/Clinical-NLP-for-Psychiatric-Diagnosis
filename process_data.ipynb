{
  "nbformat": 4,
  "nbformat_minor": 0,
  "metadata": {
    "colab": {
      "provenance": []
    },
    "kernelspec": {
      "name": "python3",
      "display_name": "Python 3"
    },
    "language_info": {
      "name": "python"
    }
  },
  "cells": [
    {
      "cell_type": "code",
      "execution_count": null,
      "metadata": {
        "colab": {
          "base_uri": "https://localhost:8080/"
        },
        "id": "WEt8gUc5_Aiv",
        "outputId": "cd8d01e4-0758-49c6-c1a7-b7f94961ecf3"
      },
      "outputs": [
        {
          "output_type": "stream",
          "name": "stdout",
          "text": [
            "Mounted at /content/drive\n"
          ]
        }
      ],
      "source": [
        "# Get access to my files\n",
        "\n",
        "from google.colab import drive\n",
        "drive.mount('/content/drive')"
      ]
    },
    {
      "cell_type": "code",
      "source": [
        "import pandas as pd\n",
        "\n",
        "# Import file downloaded from Google BigQuery\n",
        "df = pd.read_csv(\"/content/drive/MyDrive/Colab Notebooks/Postdoc/bq-results-20250711-144732-1752245533070.csv\")"
      ],
      "metadata": {
        "id": "fXmk_4kg_PTF"
      },
      "execution_count": null,
      "outputs": []
    },
    {
      "cell_type": "code",
      "source": [
        "# Column \"subject_id\" is the patient number, \"hadm_id\" is the hospital admission number, \"note\" is the discharge summary,\n",
        "# and \"label\" is a custom column where value 1 means the ICD-9 code is between 290 and 319 (psychiatric)\n",
        "\n",
        "print(df.head())        # shows first 5 rows\n",
        "print(df.columns)       # shows all column names\n",
        "print(df.shape)         # (rows, columns)"
      ],
      "metadata": {
        "id": "_-4DKasxJdEE"
      },
      "execution_count": null,
      "outputs": []
    },
    {
      "cell_type": "code",
      "source": [
        "# Return all psychiatric cases, there are 17448 of them out of 59652 entries\n",
        "\n",
        "df.loc[df['label'] == 1]"
      ],
      "metadata": {
        "id": "tgKHQjUQK3wK"
      },
      "execution_count": null,
      "outputs": []
    },
    {
      "cell_type": "code",
      "source": [
        "import re\n",
        "\n",
        "# Function to clean the note column by removing clinician signature, placeholders, and empty space\n",
        "def clean_note(note):\n",
        "    # Lowercase for consistency\n",
        "    note = note.lower()\n",
        "\n",
        "    # Remove clinician signature lines\n",
        "    note = re.sub(r\"(?i)(dictated|electronically signed|attending).*\", \"\", note)\n",
        "\n",
        "    # Remove PHI placeholder tags like [**Name**] or [**Date**]\n",
        "    note = re.sub(r\"\\[\\*\\*.*?\\*\\*\\]\", \" \", note)\n",
        "\n",
        "    # Remove excess whitespace and line breaks\n",
        "    note = re.sub(r\"\\s+\", \" \", note).strip()\n",
        "\n",
        "    return note"
      ],
      "metadata": {
        "id": "jp3_abMuMJQW"
      },
      "execution_count": null,
      "outputs": []
    },
    {
      "cell_type": "code",
      "source": [
        "# Function to extract a particular section in the note column\n",
        "def extract_section(text, section_name):\n",
        "    pattern = re.compile(rf\"{section_name}:(.*?)(\\n[A-Z][A-Z\\s]+:|\\Z)\", re.DOTALL | re.IGNORECASE)\n",
        "    match = pattern.search(text)\n",
        "    return match.group(1).strip() if match else \"\""
      ],
      "metadata": {
        "id": "5aJ0G7cUNTXd"
      },
      "execution_count": null,
      "outputs": []
    },
    {
      "cell_type": "code",
      "source": [
        "# Extract \"history of present illness\"\n",
        "df['hpi'] = df['note'].apply(lambda x: extract_section(x, \"history of present illness\"))"
      ],
      "metadata": {
        "id": "HD2b3F45NyEt"
      },
      "execution_count": null,
      "outputs": []
    },
    {
      "cell_type": "code",
      "source": [
        "# Extract \"past medical history\"\n",
        "df['pmh'] = df['note'].apply(lambda x: extract_section(x, \"past medical history\"))"
      ],
      "metadata": {
        "id": "Ob6pWUPjPCBH"
      },
      "execution_count": null,
      "outputs": []
    },
    {
      "cell_type": "code",
      "source": [
        "# Extract \"social history\"\n",
        "df['sh'] = df['note'].apply(lambda x: extract_section(x, \"social history\"))"
      ],
      "metadata": {
        "id": "e7wb9s1Sj1k0"
      },
      "execution_count": null,
      "outputs": []
    },
    {
      "cell_type": "code",
      "source": [
        "# Extract \"family history\"\n",
        "df['fh'] = df['note'].apply(lambda x: extract_section(x, \"family history\"))"
      ],
      "metadata": {
        "id": "UKFauljjj5zV"
      },
      "execution_count": null,
      "outputs": []
    },
    {
      "cell_type": "code",
      "source": [
        "# Combine the extracted sections of \"note\" into the new column \"relevant_note\"\n",
        "df['relevant_note'] = df['hpi'] + ' ' + df['pmh'] + ' ' + df['sh'] + ' ' + df['fh']"
      ],
      "metadata": {
        "id": "2Z8uEbZ_QP19"
      },
      "execution_count": null,
      "outputs": []
    },
    {
      "cell_type": "code",
      "source": [
        "# Clean the \"relevant_note\" column\n",
        "df['clean_relevant_note'] = df['relevant_note'].apply(clean_note)"
      ],
      "metadata": {
        "id": "lpmIrJtBQuig"
      },
      "execution_count": null,
      "outputs": []
    },
    {
      "cell_type": "code",
      "source": [
        "# Truncate \"clean_relevant_note\" according to tokenizer (512 tokens max)\n",
        "\n",
        "from transformers import AutoTokenizer\n",
        "\n",
        "tokenizer = AutoTokenizer.from_pretrained(\"emilyalsentzer/Bio_ClinicalBERT\")\n",
        "\n",
        "# Add a column with number of tokens (optional)\n",
        "df['token_count'] = df['clean_relevant_note'].apply(lambda x: len(tokenizer.tokenize(x)))\n",
        "\n",
        "# Truncate overly long notes\n",
        "df['clean_relevant_note_truncate'] = df['clean_relevant_note'].apply(lambda x: \" \".join(x.split()[:512]))"
      ],
      "metadata": {
        "id": "0347sviyRK7J"
      },
      "execution_count": null,
      "outputs": []
    },
    {
      "cell_type": "code",
      "source": [
        "# Remove entries with empty \"clean_relevant_note_truncate\" columns\n",
        "\n",
        "df_strip = df[df[\"clean_relevant_note_truncate\"].str.strip().astype(bool)]\n",
        "print(df.shape)\n",
        "print(df_strip.shape)\n",
        "\n",
        "# Reduced total number of entries from 59652 to 51695"
      ],
      "metadata": {
        "colab": {
          "base_uri": "https://localhost:8080/"
        },
        "id": "TfLcd7jGdUn-",
        "outputId": "a58ebbf9-8655-4cb2-b1fc-5ae5517c109b"
      },
      "execution_count": null,
      "outputs": [
        {
          "output_type": "stream",
          "name": "stdout",
          "text": [
            "(59652, 12)\n",
            "(51695, 12)\n"
          ]
        }
      ]
    },
    {
      "cell_type": "code",
      "source": [
        "# Only save the essential columns into a csv file\n",
        "\n",
        "df_strip[['subject_id', 'hadm_id', 'label', 'clean_relevant_note_truncate']].to_csv(\"/content/drive/MyDrive/Colab Notebooks/Postdoc/cleaned_stripped_mimic_notes.csv\", index=False)"
      ],
      "metadata": {
        "id": "rYMYvyVjTKWb"
      },
      "execution_count": null,
      "outputs": []
    }
  ]
}